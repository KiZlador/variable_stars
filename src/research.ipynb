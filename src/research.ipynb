{
 "cells": [
  {
   "cell_type": "markdown",
   "metadata": {},
   "source": [
    "## Установка всех нужных библиотек"
   ]
  },
  {
   "cell_type": "code",
   "execution_count": 39,
   "metadata": {
    "vscode": {
     "languageId": "shellscript"
    }
   },
   "outputs": [
    {
     "name": "stdout",
     "output_type": "stream",
     "text": [
      "Requirement already satisfied: scikit-learn in c:\\users\\kirill\\appdata\\local\\programs\\python\\python313\\lib\\site-packages (1.6.1)\n",
      "Requirement already satisfied: numpy>=1.19.5 in c:\\users\\kirill\\appdata\\local\\programs\\python\\python313\\lib\\site-packages (from scikit-learn) (2.2.4)\n",
      "Requirement already satisfied: scipy>=1.6.0 in c:\\users\\kirill\\appdata\\local\\programs\\python\\python313\\lib\\site-packages (from scikit-learn) (1.15.2)\n",
      "Requirement already satisfied: joblib>=1.2.0 in c:\\users\\kirill\\appdata\\local\\programs\\python\\python313\\lib\\site-packages (from scikit-learn) (1.4.2)\n",
      "Requirement already satisfied: threadpoolctl>=3.1.0 in c:\\users\\kirill\\appdata\\local\\programs\\python\\python313\\lib\\site-packages (from scikit-learn) (3.6.0)\n"
     ]
    },
    {
     "name": "stderr",
     "output_type": "stream",
     "text": [
      "\n",
      "[notice] A new release of pip is available: 24.3.1 -> 25.0.1\n",
      "[notice] To update, run: python.exe -m pip install --upgrade pip\n"
     ]
    },
    {
     "name": "stdout",
     "output_type": "stream",
     "text": [
      "Requirement already satisfied: matplotlib in c:\\users\\kirill\\appdata\\local\\programs\\python\\python313\\lib\\site-packages (3.10.1)\n",
      "Requirement already satisfied: contourpy>=1.0.1 in c:\\users\\kirill\\appdata\\local\\programs\\python\\python313\\lib\\site-packages (from matplotlib) (1.3.1)\n",
      "Requirement already satisfied: cycler>=0.10 in c:\\users\\kirill\\appdata\\local\\programs\\python\\python313\\lib\\site-packages (from matplotlib) (0.12.1)\n",
      "Requirement already satisfied: fonttools>=4.22.0 in c:\\users\\kirill\\appdata\\local\\programs\\python\\python313\\lib\\site-packages (from matplotlib) (4.56.0)\n",
      "Requirement already satisfied: kiwisolver>=1.3.1 in c:\\users\\kirill\\appdata\\local\\programs\\python\\python313\\lib\\site-packages (from matplotlib) (1.4.8)\n",
      "Requirement already satisfied: numpy>=1.23 in c:\\users\\kirill\\appdata\\local\\programs\\python\\python313\\lib\\site-packages (from matplotlib) (2.2.4)\n",
      "Requirement already satisfied: packaging>=20.0 in c:\\users\\kirill\\appdata\\local\\programs\\python\\python313\\lib\\site-packages (from matplotlib) (24.2)\n",
      "Requirement already satisfied: pillow>=8 in c:\\users\\kirill\\appdata\\local\\programs\\python\\python313\\lib\\site-packages (from matplotlib) (11.1.0)\n",
      "Requirement already satisfied: pyparsing>=2.3.1 in c:\\users\\kirill\\appdata\\local\\programs\\python\\python313\\lib\\site-packages (from matplotlib) (3.2.3)\n",
      "Requirement already satisfied: python-dateutil>=2.7 in c:\\users\\kirill\\appdata\\roaming\\python\\python313\\site-packages (from matplotlib) (2.9.0.post0)\n",
      "Requirement already satisfied: six>=1.5 in c:\\users\\kirill\\appdata\\roaming\\python\\python313\\site-packages (from python-dateutil>=2.7->matplotlib) (1.17.0)\n"
     ]
    },
    {
     "name": "stderr",
     "output_type": "stream",
     "text": [
      "\n",
      "[notice] A new release of pip is available: 24.3.1 -> 25.0.1\n",
      "[notice] To update, run: python.exe -m pip install --upgrade pip\n"
     ]
    },
    {
     "name": "stdout",
     "output_type": "stream",
     "text": [
      "Requirement already satisfied: seaborn in c:\\users\\kirill\\appdata\\local\\programs\\python\\python313\\lib\\site-packages (0.13.2)\n",
      "Requirement already satisfied: numpy!=1.24.0,>=1.20 in c:\\users\\kirill\\appdata\\local\\programs\\python\\python313\\lib\\site-packages (from seaborn) (2.2.4)\n",
      "Requirement already satisfied: pandas>=1.2 in c:\\users\\kirill\\appdata\\local\\programs\\python\\python313\\lib\\site-packages (from seaborn) (2.2.3)\n",
      "Requirement already satisfied: matplotlib!=3.6.1,>=3.4 in c:\\users\\kirill\\appdata\\local\\programs\\python\\python313\\lib\\site-packages (from seaborn) (3.10.1)\n",
      "Requirement already satisfied: contourpy>=1.0.1 in c:\\users\\kirill\\appdata\\local\\programs\\python\\python313\\lib\\site-packages (from matplotlib!=3.6.1,>=3.4->seaborn) (1.3.1)\n",
      "Requirement already satisfied: cycler>=0.10 in c:\\users\\kirill\\appdata\\local\\programs\\python\\python313\\lib\\site-packages (from matplotlib!=3.6.1,>=3.4->seaborn) (0.12.1)\n",
      "Requirement already satisfied: fonttools>=4.22.0 in c:\\users\\kirill\\appdata\\local\\programs\\python\\python313\\lib\\site-packages (from matplotlib!=3.6.1,>=3.4->seaborn) (4.56.0)\n",
      "Requirement already satisfied: kiwisolver>=1.3.1 in c:\\users\\kirill\\appdata\\local\\programs\\python\\python313\\lib\\site-packages (from matplotlib!=3.6.1,>=3.4->seaborn) (1.4.8)\n",
      "Requirement already satisfied: packaging>=20.0 in c:\\users\\kirill\\appdata\\local\\programs\\python\\python313\\lib\\site-packages (from matplotlib!=3.6.1,>=3.4->seaborn) (24.2)\n",
      "Requirement already satisfied: pillow>=8 in c:\\users\\kirill\\appdata\\local\\programs\\python\\python313\\lib\\site-packages (from matplotlib!=3.6.1,>=3.4->seaborn) (11.1.0)\n",
      "Requirement already satisfied: pyparsing>=2.3.1 in c:\\users\\kirill\\appdata\\local\\programs\\python\\python313\\lib\\site-packages (from matplotlib!=3.6.1,>=3.4->seaborn) (3.2.3)\n",
      "Requirement already satisfied: python-dateutil>=2.7 in c:\\users\\kirill\\appdata\\roaming\\python\\python313\\site-packages (from matplotlib!=3.6.1,>=3.4->seaborn) (2.9.0.post0)\n",
      "Requirement already satisfied: pytz>=2020.1 in c:\\users\\kirill\\appdata\\local\\programs\\python\\python313\\lib\\site-packages (from pandas>=1.2->seaborn) (2025.2)\n",
      "Requirement already satisfied: tzdata>=2022.7 in c:\\users\\kirill\\appdata\\local\\programs\\python\\python313\\lib\\site-packages (from pandas>=1.2->seaborn) (2025.2)\n",
      "Requirement already satisfied: six>=1.5 in c:\\users\\kirill\\appdata\\roaming\\python\\python313\\site-packages (from python-dateutil>=2.7->matplotlib!=3.6.1,>=3.4->seaborn) (1.17.0)\n"
     ]
    },
    {
     "name": "stderr",
     "output_type": "stream",
     "text": [
      "\n",
      "[notice] A new release of pip is available: 24.3.1 -> 25.0.1\n",
      "[notice] To update, run: python.exe -m pip install --upgrade pip\n"
     ]
    },
    {
     "name": "stdout",
     "output_type": "stream",
     "text": [
      "Requirement already satisfied: pandas in c:\\users\\kirill\\appdata\\local\\programs\\python\\python313\\lib\\site-packages (2.2.3)\n",
      "Requirement already satisfied: numpy>=1.26.0 in c:\\users\\kirill\\appdata\\local\\programs\\python\\python313\\lib\\site-packages (from pandas) (2.2.4)\n",
      "Requirement already satisfied: python-dateutil>=2.8.2 in c:\\users\\kirill\\appdata\\roaming\\python\\python313\\site-packages (from pandas) (2.9.0.post0)\n",
      "Requirement already satisfied: pytz>=2020.1 in c:\\users\\kirill\\appdata\\local\\programs\\python\\python313\\lib\\site-packages (from pandas) (2025.2)\n",
      "Requirement already satisfied: tzdata>=2022.7 in c:\\users\\kirill\\appdata\\local\\programs\\python\\python313\\lib\\site-packages (from pandas) (2025.2)\n",
      "Requirement already satisfied: six>=1.5 in c:\\users\\kirill\\appdata\\roaming\\python\\python313\\site-packages (from python-dateutil>=2.8.2->pandas) (1.17.0)\n"
     ]
    },
    {
     "name": "stderr",
     "output_type": "stream",
     "text": [
      "\n",
      "[notice] A new release of pip is available: 24.3.1 -> 25.0.1\n",
      "[notice] To update, run: python.exe -m pip install --upgrade pip\n"
     ]
    },
    {
     "name": "stdout",
     "output_type": "stream",
     "text": [
      "Requirement already satisfied: numpy in c:\\users\\kirill\\appdata\\local\\programs\\python\\python313\\lib\\site-packages (2.2.4)\n"
     ]
    },
    {
     "name": "stderr",
     "output_type": "stream",
     "text": [
      "\n",
      "[notice] A new release of pip is available: 24.3.1 -> 25.0.1\n",
      "[notice] To update, run: python.exe -m pip install --upgrade pip\n"
     ]
    },
    {
     "name": "stdout",
     "output_type": "stream",
     "text": [
      "Requirement already satisfied: imblearn in c:\\users\\kirill\\appdata\\local\\programs\\python\\python313\\lib\\site-packages (0.0)\n",
      "Requirement already satisfied: imbalanced-learn in c:\\users\\kirill\\appdata\\local\\programs\\python\\python313\\lib\\site-packages (from imblearn) (0.13.0)\n",
      "Requirement already satisfied: numpy<3,>=1.24.3 in c:\\users\\kirill\\appdata\\local\\programs\\python\\python313\\lib\\site-packages (from imbalanced-learn->imblearn) (2.2.4)\n",
      "Requirement already satisfied: scipy<2,>=1.10.1 in c:\\users\\kirill\\appdata\\local\\programs\\python\\python313\\lib\\site-packages (from imbalanced-learn->imblearn) (1.15.2)\n",
      "Requirement already satisfied: scikit-learn<2,>=1.3.2 in c:\\users\\kirill\\appdata\\local\\programs\\python\\python313\\lib\\site-packages (from imbalanced-learn->imblearn) (1.6.1)\n",
      "Requirement already satisfied: sklearn-compat<1,>=0.1 in c:\\users\\kirill\\appdata\\local\\programs\\python\\python313\\lib\\site-packages (from imbalanced-learn->imblearn) (0.1.3)\n",
      "Requirement already satisfied: joblib<2,>=1.1.1 in c:\\users\\kirill\\appdata\\local\\programs\\python\\python313\\lib\\site-packages (from imbalanced-learn->imblearn) (1.4.2)\n",
      "Requirement already satisfied: threadpoolctl<4,>=2.0.0 in c:\\users\\kirill\\appdata\\local\\programs\\python\\python313\\lib\\site-packages (from imbalanced-learn->imblearn) (3.6.0)\n"
     ]
    },
    {
     "name": "stderr",
     "output_type": "stream",
     "text": [
      "\n",
      "[notice] A new release of pip is available: 24.3.1 -> 25.0.1\n",
      "[notice] To update, run: python.exe -m pip install --upgrade pip\n"
     ]
    }
   ],
   "source": [
    "!pip install scikit-learn\n",
    "!pip install matplotlib\n",
    "!pip install seaborn\n",
    "!pip install pandas\n",
    "!pip install numpy\n",
    "!pip install imblearn"
   ]
  },
  {
   "cell_type": "markdown",
   "metadata": {},
   "source": [
    "## Подключение библиотек"
   ]
  },
  {
   "cell_type": "code",
   "execution_count": 40,
   "metadata": {},
   "outputs": [],
   "source": [
    "import pandas as pd\n",
    "import numpy as np"
   ]
  },
  {
   "cell_type": "code",
   "execution_count": 41,
   "metadata": {},
   "outputs": [],
   "source": [
    "from sklearn.model_selection import train_test_split\n",
    "from sklearn.preprocessing import StandardScaler"
   ]
  },
  {
   "cell_type": "code",
   "execution_count": 42,
   "metadata": {},
   "outputs": [],
   "source": [
    "from sklearn.linear_model import LogisticRegression\n",
    "from sklearn.svm import SVC\n",
    "from sklearn.ensemble import RandomForestClassifier, GradientBoostingClassifier\n",
    "from sklearn.metrics import accuracy_score, precision_score, recall_score, f1_score, confusion_matrix\n",
    "from imblearn.under_sampling import RandomUnderSampler"
   ]
  },
  {
   "cell_type": "code",
   "execution_count": 43,
   "metadata": {},
   "outputs": [],
   "source": [
    "import matplotlib.pyplot as plt\n",
    "import seaborn as sns"
   ]
  },
  {
   "cell_type": "markdown",
   "metadata": {},
   "source": [
    "## Парсинг данных и предобработка"
   ]
  },
  {
   "cell_type": "code",
   "execution_count": 44,
   "metadata": {},
   "outputs": [
    {
     "data": {
      "text/html": [
       "<div>\n",
       "<style scoped>\n",
       "    .dataframe tbody tr th:only-of-type {\n",
       "        vertical-align: middle;\n",
       "    }\n",
       "\n",
       "    .dataframe tbody tr th {\n",
       "        vertical-align: top;\n",
       "    }\n",
       "\n",
       "    .dataframe thead th {\n",
       "        text-align: right;\n",
       "    }\n",
       "</style>\n",
       "<table border=\"1\" class=\"dataframe\">\n",
       "  <thead>\n",
       "    <tr style=\"text-align: right;\">\n",
       "      <th></th>\n",
       "      <th>RAJ2000</th>\n",
       "      <th>DEJ2000</th>\n",
       "      <th>nobs</th>\n",
       "      <th>Vmag</th>\n",
       "      <th>e_Vmag</th>\n",
       "      <th>Bmag</th>\n",
       "      <th>e_Bmag</th>\n",
       "      <th>gpmag</th>\n",
       "      <th>e_gpmag</th>\n",
       "      <th>rpmag</th>\n",
       "      <th>e_rpmag</th>\n",
       "      <th>ipmag</th>\n",
       "      <th>e_ipmag</th>\n",
       "      <th>fuv_mag</th>\n",
       "      <th>nuv_mag</th>\n",
       "      <th>err</th>\n",
       "      <th>present</th>\n",
       "      <th>min_mag</th>\n",
       "      <th>max_mag</th>\n",
       "    </tr>\n",
       "  </thead>\n",
       "  <tbody>\n",
       "    <tr>\n",
       "      <th>4</th>\n",
       "      <td>141.728736</td>\n",
       "      <td>2.834912</td>\n",
       "      <td>4</td>\n",
       "      <td>13.468</td>\n",
       "      <td>0.077</td>\n",
       "      <td>14.042</td>\n",
       "      <td>0.048</td>\n",
       "      <td>13.634</td>\n",
       "      <td>0.208</td>\n",
       "      <td>15.422</td>\n",
       "      <td>3.632</td>\n",
       "      <td>13.227</td>\n",
       "      <td>0.000</td>\n",
       "      <td>22.714</td>\n",
       "      <td>17.651</td>\n",
       "      <td>3.639082</td>\n",
       "      <td>1</td>\n",
       "      <td>13.29</td>\n",
       "      <td>13.41</td>\n",
       "    </tr>\n",
       "    <tr>\n",
       "      <th>5</th>\n",
       "      <td>168.580444</td>\n",
       "      <td>1.051704</td>\n",
       "      <td>4</td>\n",
       "      <td>11.143</td>\n",
       "      <td>0.027</td>\n",
       "      <td>11.592</td>\n",
       "      <td>0.025</td>\n",
       "      <td>13.105</td>\n",
       "      <td>3.575</td>\n",
       "      <td>10.993</td>\n",
       "      <td>0.165</td>\n",
       "      <td>11.012</td>\n",
       "      <td>0.052</td>\n",
       "      <td>18.347</td>\n",
       "      <td>14.734</td>\n",
       "      <td>3.579373</td>\n",
       "      <td>0</td>\n",
       "      <td>13.29</td>\n",
       "      <td>13.41</td>\n",
       "    </tr>\n",
       "    <tr>\n",
       "      <th>6</th>\n",
       "      <td>341.874650</td>\n",
       "      <td>-37.464627</td>\n",
       "      <td>5</td>\n",
       "      <td>9.482</td>\n",
       "      <td>0.000</td>\n",
       "      <td>10.149</td>\n",
       "      <td>0.031</td>\n",
       "      <td>10.986</td>\n",
       "      <td>1.915</td>\n",
       "      <td>11.035</td>\n",
       "      <td>2.490</td>\n",
       "      <td>9.073</td>\n",
       "      <td>0.000</td>\n",
       "      <td>22.512</td>\n",
       "      <td>15.160</td>\n",
       "      <td>3.141383</td>\n",
       "      <td>0</td>\n",
       "      <td>13.29</td>\n",
       "      <td>13.41</td>\n",
       "    </tr>\n",
       "    <tr>\n",
       "      <th>7</th>\n",
       "      <td>141.300348</td>\n",
       "      <td>3.499374</td>\n",
       "      <td>4</td>\n",
       "      <td>11.564</td>\n",
       "      <td>0.056</td>\n",
       "      <td>12.160</td>\n",
       "      <td>0.084</td>\n",
       "      <td>11.716</td>\n",
       "      <td>0.123</td>\n",
       "      <td>13.713</td>\n",
       "      <td>2.663</td>\n",
       "      <td>11.033</td>\n",
       "      <td>0.400</td>\n",
       "      <td>23.511</td>\n",
       "      <td>16.393</td>\n",
       "      <td>2.697571</td>\n",
       "      <td>0</td>\n",
       "      <td>13.29</td>\n",
       "      <td>13.41</td>\n",
       "    </tr>\n",
       "    <tr>\n",
       "      <th>8</th>\n",
       "      <td>129.795551</td>\n",
       "      <td>18.175921</td>\n",
       "      <td>6</td>\n",
       "      <td>10.179</td>\n",
       "      <td>0.038</td>\n",
       "      <td>10.731</td>\n",
       "      <td>0.013</td>\n",
       "      <td>11.355</td>\n",
       "      <td>1.902</td>\n",
       "      <td>10.829</td>\n",
       "      <td>1.883</td>\n",
       "      <td>10.018</td>\n",
       "      <td>0.010</td>\n",
       "      <td>20.863</td>\n",
       "      <td>14.930</td>\n",
       "      <td>2.676753</td>\n",
       "      <td>0</td>\n",
       "      <td>13.29</td>\n",
       "      <td>13.41</td>\n",
       "    </tr>\n",
       "    <tr>\n",
       "      <th>...</th>\n",
       "      <td>...</td>\n",
       "      <td>...</td>\n",
       "      <td>...</td>\n",
       "      <td>...</td>\n",
       "      <td>...</td>\n",
       "      <td>...</td>\n",
       "      <td>...</td>\n",
       "      <td>...</td>\n",
       "      <td>...</td>\n",
       "      <td>...</td>\n",
       "      <td>...</td>\n",
       "      <td>...</td>\n",
       "      <td>...</td>\n",
       "      <td>...</td>\n",
       "      <td>...</td>\n",
       "      <td>...</td>\n",
       "      <td>...</td>\n",
       "      <td>...</td>\n",
       "      <td>...</td>\n",
       "    </tr>\n",
       "    <tr>\n",
       "      <th>64983</th>\n",
       "      <td>121.733932</td>\n",
       "      <td>34.774408</td>\n",
       "      <td>5</td>\n",
       "      <td>8.090</td>\n",
       "      <td>0.000</td>\n",
       "      <td>9.274</td>\n",
       "      <td>0.000</td>\n",
       "      <td>8.712</td>\n",
       "      <td>0.000</td>\n",
       "      <td>7.674</td>\n",
       "      <td>0.000</td>\n",
       "      <td>7.320</td>\n",
       "      <td>0.000</td>\n",
       "      <td>23.701</td>\n",
       "      <td>16.685</td>\n",
       "      <td>0.000000</td>\n",
       "      <td>0</td>\n",
       "      <td>8.39</td>\n",
       "      <td>8.43</td>\n",
       "    </tr>\n",
       "    <tr>\n",
       "      <th>64984</th>\n",
       "      <td>164.209694</td>\n",
       "      <td>5.631360</td>\n",
       "      <td>6</td>\n",
       "      <td>9.012</td>\n",
       "      <td>0.000</td>\n",
       "      <td>9.501</td>\n",
       "      <td>0.000</td>\n",
       "      <td>9.185</td>\n",
       "      <td>0.000</td>\n",
       "      <td>8.873</td>\n",
       "      <td>0.000</td>\n",
       "      <td>8.775</td>\n",
       "      <td>0.000</td>\n",
       "      <td>20.023</td>\n",
       "      <td>13.518</td>\n",
       "      <td>0.000000</td>\n",
       "      <td>0</td>\n",
       "      <td>8.39</td>\n",
       "      <td>8.43</td>\n",
       "    </tr>\n",
       "    <tr>\n",
       "      <th>64985</th>\n",
       "      <td>197.822409</td>\n",
       "      <td>-3.915387</td>\n",
       "      <td>3</td>\n",
       "      <td>8.558</td>\n",
       "      <td>0.000</td>\n",
       "      <td>9.722</td>\n",
       "      <td>0.000</td>\n",
       "      <td>9.115</td>\n",
       "      <td>0.000</td>\n",
       "      <td>8.152</td>\n",
       "      <td>0.000</td>\n",
       "      <td>7.835</td>\n",
       "      <td>0.000</td>\n",
       "      <td>22.929</td>\n",
       "      <td>16.748</td>\n",
       "      <td>0.000000</td>\n",
       "      <td>0</td>\n",
       "      <td>8.39</td>\n",
       "      <td>8.43</td>\n",
       "    </tr>\n",
       "    <tr>\n",
       "      <th>64986</th>\n",
       "      <td>216.499182</td>\n",
       "      <td>6.938758</td>\n",
       "      <td>4</td>\n",
       "      <td>9.354</td>\n",
       "      <td>0.000</td>\n",
       "      <td>9.858</td>\n",
       "      <td>0.000</td>\n",
       "      <td>9.633</td>\n",
       "      <td>0.000</td>\n",
       "      <td>9.306</td>\n",
       "      <td>0.000</td>\n",
       "      <td>9.203</td>\n",
       "      <td>0.000</td>\n",
       "      <td>18.501</td>\n",
       "      <td>13.158</td>\n",
       "      <td>0.000000</td>\n",
       "      <td>0</td>\n",
       "      <td>8.39</td>\n",
       "      <td>8.43</td>\n",
       "    </tr>\n",
       "    <tr>\n",
       "      <th>64987</th>\n",
       "      <td>326.792933</td>\n",
       "      <td>4.402919</td>\n",
       "      <td>4</td>\n",
       "      <td>7.650</td>\n",
       "      <td>0.000</td>\n",
       "      <td>8.521</td>\n",
       "      <td>0.000</td>\n",
       "      <td>7.983</td>\n",
       "      <td>0.000</td>\n",
       "      <td>7.428</td>\n",
       "      <td>0.000</td>\n",
       "      <td>7.276</td>\n",
       "      <td>0.000</td>\n",
       "      <td>20.021</td>\n",
       "      <td>14.306</td>\n",
       "      <td>0.000000</td>\n",
       "      <td>0</td>\n",
       "      <td>8.39</td>\n",
       "      <td>8.43</td>\n",
       "    </tr>\n",
       "  </tbody>\n",
       "</table>\n",
       "<p>64984 rows × 19 columns</p>\n",
       "</div>"
      ],
      "text/plain": [
       "          RAJ2000    DEJ2000  nobs    Vmag  e_Vmag    Bmag  e_Bmag   gpmag  \\\n",
       "4      141.728736   2.834912     4  13.468   0.077  14.042   0.048  13.634   \n",
       "5      168.580444   1.051704     4  11.143   0.027  11.592   0.025  13.105   \n",
       "6      341.874650 -37.464627     5   9.482   0.000  10.149   0.031  10.986   \n",
       "7      141.300348   3.499374     4  11.564   0.056  12.160   0.084  11.716   \n",
       "8      129.795551  18.175921     6  10.179   0.038  10.731   0.013  11.355   \n",
       "...           ...        ...   ...     ...     ...     ...     ...     ...   \n",
       "64983  121.733932  34.774408     5   8.090   0.000   9.274   0.000   8.712   \n",
       "64984  164.209694   5.631360     6   9.012   0.000   9.501   0.000   9.185   \n",
       "64985  197.822409  -3.915387     3   8.558   0.000   9.722   0.000   9.115   \n",
       "64986  216.499182   6.938758     4   9.354   0.000   9.858   0.000   9.633   \n",
       "64987  326.792933   4.402919     4   7.650   0.000   8.521   0.000   7.983   \n",
       "\n",
       "       e_gpmag   rpmag  e_rpmag   ipmag  e_ipmag  fuv_mag  nuv_mag       err  \\\n",
       "4        0.208  15.422    3.632  13.227    0.000   22.714   17.651  3.639082   \n",
       "5        3.575  10.993    0.165  11.012    0.052   18.347   14.734  3.579373   \n",
       "6        1.915  11.035    2.490   9.073    0.000   22.512   15.160  3.141383   \n",
       "7        0.123  13.713    2.663  11.033    0.400   23.511   16.393  2.697571   \n",
       "8        1.902  10.829    1.883  10.018    0.010   20.863   14.930  2.676753   \n",
       "...        ...     ...      ...     ...      ...      ...      ...       ...   \n",
       "64983    0.000   7.674    0.000   7.320    0.000   23.701   16.685  0.000000   \n",
       "64984    0.000   8.873    0.000   8.775    0.000   20.023   13.518  0.000000   \n",
       "64985    0.000   8.152    0.000   7.835    0.000   22.929   16.748  0.000000   \n",
       "64986    0.000   9.306    0.000   9.203    0.000   18.501   13.158  0.000000   \n",
       "64987    0.000   7.428    0.000   7.276    0.000   20.021   14.306  0.000000   \n",
       "\n",
       "       present  min_mag  max_mag  \n",
       "4            1    13.29    13.41  \n",
       "5            0    13.29    13.41  \n",
       "6            0    13.29    13.41  \n",
       "7            0    13.29    13.41  \n",
       "8            0    13.29    13.41  \n",
       "...        ...      ...      ...  \n",
       "64983        0     8.39     8.43  \n",
       "64984        0     8.39     8.43  \n",
       "64985        0     8.39     8.43  \n",
       "64986        0     8.39     8.43  \n",
       "64987        0     8.39     8.43  \n",
       "\n",
       "[64984 rows x 19 columns]"
      ]
     },
     "execution_count": 44,
     "metadata": {},
     "output_type": "execute_result"
    }
   ],
   "source": [
    "df = pd.read_csv('../data/whole_data_practice3.csv')\n",
    "#df['present'] = np.where(df['present'].isna(), int(0), int(1))\n",
    "df.drop(['type'], axis=1, inplace=True)\n",
    "df = df.dropna()\n",
    "#df[df['type'] == df['present']]\n",
    "df"
   ]
  },
  {
   "cell_type": "code",
   "execution_count": 45,
   "metadata": {},
   "outputs": [],
   "source": [
    "df.drop(['RAJ2000', 'DEJ2000', 'min_mag', 'max_mag'], axis=1, inplace=True)\n",
    "df = df.fillna(df.median())\n",
    "scaler = StandardScaler()\n",
    "scaled_features = scaler.fit_transform(df.drop('present', axis=1))"
   ]
  },
  {
   "cell_type": "markdown",
   "metadata": {},
   "source": [
    "## Указываем данные для обучения"
   ]
  },
  {
   "cell_type": "code",
   "execution_count": 46,
   "metadata": {},
   "outputs": [],
   "source": [
    "X_train, X_test, y_train, y_test = train_test_split(\n",
    "    scaled_features, \n",
    "    df['present'], \n",
    "    test_size=0.3, \n",
    "    random_state=42\n",
    ")"
   ]
  },
  {
   "cell_type": "code",
   "execution_count": 47,
   "metadata": {},
   "outputs": [],
   "source": [
    "undersampler = RandomUnderSampler(random_state=42)\n",
    "X_balanced, y_balanced = undersampler.fit_resample(X_train, y_train)"
   ]
  },
  {
   "cell_type": "markdown",
   "metadata": {},
   "source": [
    "### Функция вывода матрицы несоответствий"
   ]
  },
  {
   "cell_type": "code",
   "execution_count": 48,
   "metadata": {},
   "outputs": [],
   "source": [
    "def print_mat(cm):\n",
    "    plt.figure(figsize=(8, 6))\n",
    "    sns.heatmap(cm, annot=True, fmt='d', cmap='Blues', \n",
    "                xticklabels=['Predicted 0', 'Predicted 1'],\n",
    "                yticklabels=['Actual 0', 'Actual 1'])\n",
    "    plt.title('Confusion Matrix')\n",
    "    plt.xlabel('Predicted label')\n",
    "    plt.ylabel('True label')\n",
    "    plt.show()"
   ]
  },
  {
   "cell_type": "markdown",
   "metadata": {},
   "source": [
    "### Функция для аналитики полученных данных"
   ]
  },
  {
   "cell_type": "code",
   "execution_count": 49,
   "metadata": {},
   "outputs": [],
   "source": [
    "def evaluate_model(model, X_test, y_test, name):\n",
    "    y_pred = model.predict(X_test)\n",
    "    print(f\"Accuracy: {accuracy_score(y_test, y_pred):.3f}\")\n",
    "    print(f\"Precision: {precision_score(y_test, y_pred):.3f}\")\n",
    "    print(f\"Recall: {recall_score(y_test, y_pred):.3f}\")\n",
    "    print(f\"F1-Score: {f1_score(y_test, y_pred):.3f}\")\n",
    "    #print(f\"Сonfusion Matrix: {confusion_matrix(y_test, y_pred)}\")\n",
    "    #plt.savefig(f'../samples/{name}.png', bbox_inches='tight', dpi=300)\n",
    "    print_mat(confusion_matrix(y_test, y_pred))"
   ]
  },
  {
   "cell_type": "markdown",
   "metadata": {},
   "source": [
    "## Логистическая регрессия"
   ]
  },
  {
   "cell_type": "code",
   "execution_count": 50,
   "metadata": {},
   "outputs": [
    {
     "name": "stdout",
     "output_type": "stream",
     "text": [
      "Logistic Regression:\n",
      "Accuracy: 0.690\n",
      "Precision: 0.176\n",
      "Recall: 0.578\n",
      "F1-Score: 0.269\n"
     ]
    },
    {
     "data": {
      "image/png": "[encoded data removed]",
      "text/plain": [
       "<Figure size 800x600 with 2 Axes>"
      ]
     },
     "metadata": {},
     "output_type": "display_data"
    }
   ],
   "source": [
    "lr = LogisticRegression()\n",
    "lr.fit(X_balanced, y_balanced)\n",
    "print(\"Logistic Regression:\")\n",
    "evaluate_model(lr, X_test, y_test, \"lr\")"
   ]
  },
  {
   "cell_type": "markdown",
   "metadata": {},
   "source": [
    "## SVM"
   ]
  },
  {
   "cell_type": "code",
   "execution_count": 51,
   "metadata": {},
   "outputs": [
    {
     "name": "stdout",
     "output_type": "stream",
     "text": [
      "\n",
      "SVM:\n",
      "Accuracy: 0.737\n",
      "Precision: 0.230\n",
      "Recall: 0.708\n",
      "F1-Score: 0.347\n"
     ]
    },
    {
     "data": {
      "image/png": "[encoded data removed]",
      "text/plain": [
       "<Figure size 800x600 with 2 Axes>"
      ]
     },
     "metadata": {},
     "output_type": "display_data"
    }
   ],
   "source": [
    "svm = SVC(kernel='rbf')\n",
    "svm.fit(X_balanced, y_balanced)\n",
    "print(\"\\nSVM:\")\n",
    "evaluate_model(svm, X_test, y_test, \"svm\")"
   ]
  },
  {
   "cell_type": "markdown",
   "metadata": {},
   "source": [
    "## Случайный лес"
   ]
  },
  {
   "cell_type": "code",
   "execution_count": 52,
   "metadata": {},
   "outputs": [
    {
     "name": "stdout",
     "output_type": "stream",
     "text": [
      "\n",
      "Random Forest:\n",
      "Accuracy: 0.747\n",
      "Precision: 0.240\n",
      "Recall: 0.721\n",
      "F1-Score: 0.361\n"
     ]
    },
    {
     "data": {
      "image/png": "[encoded data removed]",
      "text/plain": [
       "<Figure size 800x600 with 2 Axes>"
      ]
     },
     "metadata": {},
     "output_type": "display_data"
    }
   ],
   "source": [
    "rf = RandomForestClassifier(n_estimators=100)\n",
    "rf.fit(X_balanced, y_balanced)\n",
    "print(\"\\nRandom Forest:\")\n",
    "evaluate_model(rf, X_test, y_test, \"rf\")"
   ]
  },
  {
   "cell_type": "markdown",
   "metadata": {},
   "source": [
    "## Градиентный бустинг"
   ]
  },
  {
   "cell_type": "code",
   "execution_count": 53,
   "metadata": {},
   "outputs": [
    {
     "name": "stdout",
     "output_type": "stream",
     "text": [
      "\n",
      "Gradient Boosting:\n",
      "Accuracy: 0.725\n",
      "Precision: 0.225\n",
      "Recall: 0.731\n",
      "F1-Score: 0.345\n"
     ]
    },
    {
     "data": {
      "image/png": "[encoded data removed]",
      "text/plain": [
       "<Figure size 800x600 with 2 Axes>"
      ]
     },
     "metadata": {},
     "output_type": "display_data"
    }
   ],
   "source": [
    "gb = GradientBoostingClassifier()\n",
    "gb.fit(X_balanced, y_balanced)\n",
    "print(\"\\nGradient Boosting:\")\n",
    "evaluate_model(gb, X_test, y_test, \"gb\")"
   ]
  }
 ],
 "metadata": {
  "kernelspec": {
   "display_name": "Python 3",
   "language": "python",
   "name": "python3"
  },
  "language_info": {
   "codemirror_mode": {
    "name": "ipython",
    "version": 3
   },
   "file_extension": ".py",
   "mimetype": "text/x-python",
   "name": "python",
   "nbconvert_exporter": "python",
   "pygments_lexer": "ipython3",
   "version": "3.13.1"
  }
 },
 "nbformat": 4,
 "nbformat_minor": 2
}
